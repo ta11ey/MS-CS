{
 "cells": [
  {
   "cell_type": "markdown",
   "metadata": {},
   "source": [
    "12.1-3\n",
    "Give a nonrecursive algorithm that performs an inorder tree walk. (Hint: An easy\n",
    "solution uses a stack as an auxiliary data structure. A more complicated, but elegant, solution uses no stack but assumes that you can test two pointers for equality.)"
   ]
  },
  {
   "cell_type": "code",
   "execution_count": 8,
   "metadata": {},
   "outputs": [
    {
     "name": "stdout",
     "output_type": "stream",
     "text": [
      "False\n",
      "False\n",
      "True\n",
      "4\n"
     ]
    }
   ],
   "source": [
    "from TreeNode import TreeNode\n",
    "from tree_vis import visualize_tree\n",
    "\n",
    "root = TreeNode(17)\n",
    "root.left = TreeNode(14)\n",
    "root.left.left = TreeNode(4)\n",
    "root.left.right = TreeNode(6)\n",
    "root.right = TreeNode(21)\n",
    "root.right.right = TreeNode(23)\n",
    "\n",
    "def inorder_tree_walk(node):\n",
    "  stack = [node]\n",
    "  loop = True\n",
    "  while loop == True:\n",
    "    if len(stack) == 0:\n",
    "      loop=False\n",
    "      return\n",
    "    if len(stack) > 100:\n",
    "      loop=False\n",
    "    item = stack.pop()\n",
    "    print(bool(item.left) == False)\n",
    "    if item.left:\n",
    "      stack.append(item.left)\n",
    "    elif bool(item.left) == False:\n",
    "      print(item.val)\n",
    "      if item.right:\n",
    "        stack.append(item.right)\n",
    "    else:\n",
    "      print(item.val)\n",
    "\n",
    "inorder_tree_walk(root)\n"
   ]
  }
 ],
 "metadata": {
  "kernelspec": {
   "display_name": "base",
   "language": "python",
   "name": "python3"
  },
  "language_info": {
   "codemirror_mode": {
    "name": "ipython",
    "version": 3
   },
   "file_extension": ".py",
   "mimetype": "text/x-python",
   "name": "python",
   "nbconvert_exporter": "python",
   "pygments_lexer": "ipython3",
   "version": "3.8.18"
  }
 },
 "nbformat": 4,
 "nbformat_minor": 2
}
